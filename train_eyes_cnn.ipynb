{
 "cells": [
  {
   "cell_type": "code",
   "execution_count": 13,
   "metadata": {},
   "outputs": [],
   "source": [
    "from keras.models import Sequential\n",
    "from keras.layers.core import Dense, Dropout, Activation, Flatten\n",
    "from keras.layers.convolutional import Conv2D, MaxPooling2D\n",
    "from keras.optimizers import SGD, Adam\n",
    "from keras.preprocessing.image import ImageDataGenerator\n",
    "\n",
    "from sklearn.metrics import classification_report\n",
    "\n",
    "import time\n",
    "import numpy as np\n",
    "import pickle\n",
    "import matplotlib.pyplot as plt\n",
    "%matplotlib inline"
   ]
  },
  {
   "cell_type": "code",
   "execution_count": 2,
   "metadata": {},
   "outputs": [],
   "source": [
    "files = ['open_eyes.pkl', 'closed_eyes.pkl']"
   ]
  },
  {
   "cell_type": "code",
   "execution_count": 3,
   "metadata": {},
   "outputs": [],
   "source": [
    "i = 0\n",
    "for file in files:\n",
    "    with open(file, 'rb') as f:\n",
    "        data = pickle.load(f)\n",
    "        # save first file\n",
    "        if i == 0:\n",
    "            train_dataset = data['train_dataset']\n",
    "            train_labels = data['train_labels']\n",
    "            test_dataset = data['test_dataset']\n",
    "            test_labels = data['test_labels']\n",
    "        # then add any others\n",
    "        else:\n",
    "            train_dataset = np.concatenate((train_dataset, data['train_dataset']))\n",
    "            train_labels = np.concatenate((train_labels, data['train_labels']))\n",
    "            test_dataset = np.concatenate((test_dataset, data['test_dataset']))\n",
    "            test_labels = np.concatenate((test_labels, data['test_labels']))\n",
    "        del(data)\n",
    "    i+=1\n",
    "\n",
    "            \n",
    "            "
   ]
  },
  {
   "cell_type": "code",
   "execution_count": 4,
   "metadata": {},
   "outputs": [
    {
     "name": "stdout",
     "output_type": "stream",
     "text": [
      "(3448, 24, 24, 1) (3448, 1)\n",
      "(1480, 24, 24, 1) (1480, 1)\n"
     ]
    }
   ],
   "source": [
    "print(train_dataset.shape, train_labels.shape)\n",
    "print(test_dataset.shape, test_labels.shape)"
   ]
  },
  {
   "cell_type": "code",
   "execution_count": 5,
   "metadata": {},
   "outputs": [],
   "source": [
    "X_train = train_dataset\n",
    "y_train = train_labels\n",
    "X_test = test_dataset\n",
    "y_test = test_labels"
   ]
  },
  {
   "cell_type": "code",
   "execution_count": 6,
   "metadata": {},
   "outputs": [
    {
     "data": {
      "text/plain": [
       "(3448, 24, 24, 1)"
      ]
     },
     "execution_count": 6,
     "metadata": {},
     "output_type": "execute_result"
    }
   ],
   "source": [
    "X_train.shape"
   ]
  },
  {
   "cell_type": "code",
   "execution_count": 7,
   "metadata": {},
   "outputs": [],
   "source": [
    "# image dimensions\n",
    "_, img_channels, img_rows, img_cols = X_train.shape"
   ]
  },
  {
   "cell_type": "code",
   "execution_count": 8,
   "metadata": {},
   "outputs": [],
   "source": [
    "model = Sequential()\n",
    "\n",
    "model.add(Conv2D(32, (3, 3), padding='same',\n",
    "          input_shape=(img_channels, img_rows, img_cols)))\n",
    "model.add(Activation('relu'))\n",
    "model.add(MaxPooling2D(pool_size=(2,2)))\n",
    "model.add(Conv2D(64, (2,2), padding= 'same'))\n",
    "model.add(Activation('relu'))\n",
    "model.add(MaxPooling2D(pool_size=(2, 2)))\n",
    "model.add(Conv2D(128, (2,2), padding='same'))\n",
    "model.add(Activation('relu'))\n",
    "model.add(MaxPooling2D(pool_size=(2, 2)))\n",
    "model.add(Dropout(0.25))\n",
    "\n",
    "#Fully connected layer\n",
    "model.add(Flatten())\n",
    "model.add(Dense(512))\n",
    "model.add(Activation('relu'))\n",
    "model.add(Dropout(0.5))\n",
    "\n",
    "#Output Layer\n",
    "model.add(Dense(1))\n",
    "model.add(Activation('sigmoid'))\n",
    "\n",
    "# train with Adam\n",
    "sgd = SGD(lr=0.01, decay=1e-6, momentum=0.9, nesterov=True)\n",
    "model.compile(loss='binary_crossentropy', optimizer=Adam(lr=0.001), metrics=['accuracy'])"
   ]
  },
  {
   "cell_type": "markdown",
   "metadata": {},
   "source": [
    "### Data Augmentation"
   ]
  },
  {
   "cell_type": "code",
   "execution_count": 9,
   "metadata": {},
   "outputs": [
    {
     "name": "stdout",
     "output_type": "stream",
     "text": [
      "Epoch 1/50\n",
      "108/107 [==============================] - 3s 31ms/step - loss: 0.6622 - acc: 0.5864 - val_loss: 0.6110 - val_acc: 0.6581\n",
      "Epoch 2/50\n",
      "108/107 [==============================] - 2s 19ms/step - loss: 0.5549 - acc: 0.7094 - val_loss: 0.4153 - val_acc: 0.8311\n",
      "Epoch 3/50\n",
      "108/107 [==============================] - 2s 19ms/step - loss: 0.4197 - acc: 0.8101 - val_loss: 0.2834 - val_acc: 0.8973\n",
      "Epoch 4/50\n",
      "108/107 [==============================] - 2s 19ms/step - loss: 0.2962 - acc: 0.8811 - val_loss: 0.2453 - val_acc: 0.9014\n",
      "Epoch 5/50\n",
      "108/107 [==============================] - 2s 19ms/step - loss: 0.2595 - acc: 0.8994 - val_loss: 0.2012 - val_acc: 0.9223\n",
      "Epoch 6/50\n",
      "108/107 [==============================] - 2s 19ms/step - loss: 0.2345 - acc: 0.9023 - val_loss: 0.2193 - val_acc: 0.9209\n",
      "Epoch 7/50\n",
      "108/107 [==============================] - 2s 19ms/step - loss: 0.2113 - acc: 0.9173 - val_loss: 0.1481 - val_acc: 0.9500\n",
      "Epoch 8/50\n",
      "108/107 [==============================] - 2s 19ms/step - loss: 0.1894 - acc: 0.9251 - val_loss: 0.1302 - val_acc: 0.9480\n",
      "Epoch 9/50\n",
      "108/107 [==============================] - 2s 19ms/step - loss: 0.1837 - acc: 0.9302 - val_loss: 0.1247 - val_acc: 0.9493\n",
      "Epoch 10/50\n",
      "108/107 [==============================] - 2s 19ms/step - loss: 0.1858 - acc: 0.9247 - val_loss: 0.1362 - val_acc: 0.9500\n",
      "Epoch 11/50\n",
      "108/107 [==============================] - 2s 19ms/step - loss: 0.1805 - acc: 0.9296 - val_loss: 0.1331 - val_acc: 0.9500\n",
      "Epoch 12/50\n",
      "108/107 [==============================] - 2s 19ms/step - loss: 0.1697 - acc: 0.9401 - val_loss: 0.1278 - val_acc: 0.9486\n",
      "Epoch 13/50\n",
      "108/107 [==============================] - 2s 19ms/step - loss: 0.1495 - acc: 0.9410 - val_loss: 0.1137 - val_acc: 0.9541\n",
      "Epoch 14/50\n",
      "108/107 [==============================] - 3s 24ms/step - loss: 0.1542 - acc: 0.9379 - val_loss: 0.1186 - val_acc: 0.9547\n",
      "Epoch 15/50\n",
      "108/107 [==============================] - 3s 29ms/step - loss: 0.1344 - acc: 0.9460 - val_loss: 0.1160 - val_acc: 0.9527\n",
      "Epoch 16/50\n",
      "108/107 [==============================] - 2s 19ms/step - loss: 0.1496 - acc: 0.9442 - val_loss: 0.1341 - val_acc: 0.9520\n",
      "Epoch 17/50\n",
      "108/107 [==============================] - 2s 19ms/step - loss: 0.1472 - acc: 0.9430 - val_loss: 0.1275 - val_acc: 0.9527\n",
      "Epoch 18/50\n",
      "108/107 [==============================] - 2s 19ms/step - loss: 0.1464 - acc: 0.9387 - val_loss: 0.1187 - val_acc: 0.9588\n",
      "Epoch 19/50\n",
      "108/107 [==============================] - 2s 19ms/step - loss: 0.1297 - acc: 0.9475 - val_loss: 0.1160 - val_acc: 0.9615\n",
      "Epoch 20/50\n",
      "108/107 [==============================] - 2s 19ms/step - loss: 0.1394 - acc: 0.9444 - val_loss: 0.1120 - val_acc: 0.9534\n",
      "Epoch 21/50\n",
      "108/107 [==============================] - 2s 19ms/step - loss: 0.1245 - acc: 0.9508 - val_loss: 0.1082 - val_acc: 0.9601\n",
      "Epoch 22/50\n",
      "108/107 [==============================] - 2s 19ms/step - loss: 0.1264 - acc: 0.9549 - val_loss: 0.1073 - val_acc: 0.9561\n",
      "Epoch 23/50\n",
      "108/107 [==============================] - 2s 19ms/step - loss: 0.1299 - acc: 0.9493 - val_loss: 0.1112 - val_acc: 0.9520\n",
      "Epoch 24/50\n",
      "108/107 [==============================] - 2s 19ms/step - loss: 0.1224 - acc: 0.9523 - val_loss: 0.1299 - val_acc: 0.9520\n",
      "Epoch 25/50\n",
      "108/107 [==============================] - 2s 19ms/step - loss: 0.1201 - acc: 0.9522 - val_loss: 0.1055 - val_acc: 0.9547\n",
      "Epoch 26/50\n",
      "108/107 [==============================] - 2s 19ms/step - loss: 0.1190 - acc: 0.9501 - val_loss: 0.1081 - val_acc: 0.9554\n",
      "Epoch 27/50\n",
      "108/107 [==============================] - 2s 19ms/step - loss: 0.1192 - acc: 0.9537 - val_loss: 0.1089 - val_acc: 0.9622\n",
      "Epoch 28/50\n",
      "108/107 [==============================] - 2s 19ms/step - loss: 0.1180 - acc: 0.9511 - val_loss: 0.0968 - val_acc: 0.9601\n",
      "Epoch 29/50\n",
      "108/107 [==============================] - 2s 19ms/step - loss: 0.1165 - acc: 0.9551 - val_loss: 0.1025 - val_acc: 0.9608\n",
      "Epoch 30/50\n",
      "108/107 [==============================] - 2s 19ms/step - loss: 0.1177 - acc: 0.9530 - val_loss: 0.1044 - val_acc: 0.9520\n",
      "Epoch 31/50\n",
      "108/107 [==============================] - 2s 19ms/step - loss: 0.1184 - acc: 0.9533 - val_loss: 0.1337 - val_acc: 0.9480\n",
      "Epoch 32/50\n",
      "108/107 [==============================] - 2s 19ms/step - loss: 0.1180 - acc: 0.9563 - val_loss: 0.1134 - val_acc: 0.9541\n",
      "Epoch 33/50\n",
      "108/107 [==============================] - 2s 19ms/step - loss: 0.1076 - acc: 0.9571 - val_loss: 0.0925 - val_acc: 0.9642\n",
      "Epoch 34/50\n",
      "108/107 [==============================] - 2s 19ms/step - loss: 0.1021 - acc: 0.9597 - val_loss: 0.1031 - val_acc: 0.9581\n",
      "Epoch 35/50\n",
      "108/107 [==============================] - 2s 19ms/step - loss: 0.1163 - acc: 0.9583 - val_loss: 0.1325 - val_acc: 0.9473\n",
      "Epoch 36/50\n",
      "108/107 [==============================] - 2s 19ms/step - loss: 0.1176 - acc: 0.9530 - val_loss: 0.1211 - val_acc: 0.9574\n",
      "Epoch 37/50\n",
      "108/107 [==============================] - 2s 19ms/step - loss: 0.1121 - acc: 0.9569 - val_loss: 0.1001 - val_acc: 0.9615\n",
      "Epoch 38/50\n",
      "108/107 [==============================] - 2s 19ms/step - loss: 0.1080 - acc: 0.9606 - val_loss: 0.0981 - val_acc: 0.9608\n",
      "Epoch 39/50\n",
      "108/107 [==============================] - 2s 19ms/step - loss: 0.1167 - acc: 0.9563 - val_loss: 0.1116 - val_acc: 0.9581\n",
      "Epoch 40/50\n",
      "108/107 [==============================] - 2s 19ms/step - loss: 0.1008 - acc: 0.9620 - val_loss: 0.0948 - val_acc: 0.9601\n",
      "Epoch 41/50\n",
      "108/107 [==============================] - 2s 19ms/step - loss: 0.0990 - acc: 0.9604 - val_loss: 0.1074 - val_acc: 0.9608\n",
      "Epoch 42/50\n",
      "108/107 [==============================] - 2s 19ms/step - loss: 0.1104 - acc: 0.9559 - val_loss: 0.0952 - val_acc: 0.9628\n",
      "Epoch 43/50\n",
      "108/107 [==============================] - 2s 19ms/step - loss: 0.0984 - acc: 0.9635 - val_loss: 0.0955 - val_acc: 0.9649\n",
      "Epoch 44/50\n",
      "108/107 [==============================] - 2s 19ms/step - loss: 0.0966 - acc: 0.9645 - val_loss: 0.1075 - val_acc: 0.9581\n",
      "Epoch 45/50\n",
      "108/107 [==============================] - 2s 19ms/step - loss: 0.1007 - acc: 0.9626 - val_loss: 0.0898 - val_acc: 0.9622\n",
      "Epoch 46/50\n",
      "108/107 [==============================] - 2s 19ms/step - loss: 0.0971 - acc: 0.9638 - val_loss: 0.1110 - val_acc: 0.9608\n",
      "Epoch 47/50\n",
      "108/107 [==============================] - 2s 19ms/step - loss: 0.0973 - acc: 0.9645 - val_loss: 0.1022 - val_acc: 0.9635\n",
      "Epoch 48/50\n",
      "108/107 [==============================] - 2s 19ms/step - loss: 0.0981 - acc: 0.9653 - val_loss: 0.0897 - val_acc: 0.9676\n",
      "Epoch 49/50\n",
      "108/107 [==============================] - 2s 19ms/step - loss: 0.0995 - acc: 0.9623 - val_loss: 0.0966 - val_acc: 0.9635\n",
      "Epoch 50/50\n",
      "108/107 [==============================] - 2s 19ms/step - loss: 0.1038 - acc: 0.9592 - val_loss: 0.1033 - val_acc: 0.9595\n",
      "[INFO] evaluating network...\n",
      "             precision    recall  f1-score   support\n",
      "\n",
      "       open       1.00      1.00      1.00      1480\n",
      "\n",
      "avg / total       1.00      1.00      1.00      1480\n",
      "\n"
     ]
    },
    {
     "name": "stderr",
     "output_type": "stream",
     "text": [
      "/home/ubuntu/anaconda3/envs/tensorflow_p36/lib/python3.6/site-packages/sklearn/metrics/classification.py:1428: UserWarning: labels size, 1, does not match size of target_names, 2\n",
      "  .format(len(labels), len(target_names))\n"
     ]
    }
   ],
   "source": [
    "# scale values between 0 and 1 for faster learning\n",
    "X_train /= 255\n",
    "X_test /= 255\n",
    "datagen = ImageDataGenerator(rotation_range=10,\n",
    "                            width_shift_range=0.2,\n",
    "                            height_shift_range=0.2)\n",
    "datagen.fit(X_train)\n",
    "\n",
    "H = model.fit_generator(datagen.flow(X_train,y_train,batch_size=32),\n",
    "                        validation_data=(X_test, y_test),\n",
    "                        steps_per_epoch=len(X_train) / 32, epochs=50)\n",
    "print(\"[INFO] evaluating network...\")\n",
    "predictions = model.predict(X_test, batch_size=32)\n",
    "print(classification_report(y_test.argmax(axis=1),\n",
    "                            predictions.argmax(axis=1), \n",
    "                            target_names=['open', 'closed']))"
   ]
  },
  {
   "cell_type": "code",
   "execution_count": 10,
   "metadata": {},
   "outputs": [
    {
     "data": {
      "text/plain": [
       "<matplotlib.legend.Legend at 0x7fc8c3675b70>"
      ]
     },
     "execution_count": 10,
     "metadata": {},
     "output_type": "execute_result"
    },
    {
     "data": {
      "image/png": "[encoded data removed]",
      "text/plain": [
       "<Figure size 432x288 with 1 Axes>"
      ]
     },
     "metadata": {},
     "output_type": "display_data"
    }
   ],
   "source": [
    "# plot the training loss and accuracy\n",
    "N = np.arange(0, 50)\n",
    "plt.style.use(\"ggplot\")\n",
    "plt.figure()\n",
    "plt.plot(N, H.history[\"loss\"], label=\"train_loss\")\n",
    "plt.plot(N, H.history[\"val_loss\"], label=\"val_loss\")\n",
    "plt.plot(N, H.history[\"acc\"], label=\"train_acc\")\n",
    "plt.plot(N, H.history[\"val_acc\"], label=\"val_acc\")\n",
    "plt.title(\"Training Loss and Accuracy\")\n",
    "plt.xlabel(\"Epoch #\")\n",
    "plt.ylabel(\"Loss/Accuracy\")\n",
    "plt.legend()\n"
   ]
  },
  {
   "cell_type": "code",
   "execution_count": 11,
   "metadata": {},
   "outputs": [
    {
     "name": "stdout",
     "output_type": "stream",
     "text": [
      "Loss score: 0.10334648468525376\n",
      "Test accuracy: 95.94594594594594 %\n"
     ]
    }
   ],
   "source": [
    "score = model.evaluate(X_test, y_test, verbose=0)\n",
    "\n",
    "print('Loss score:', score[0])\n",
    "print('Test accuracy:', score[1] * 100, '%')"
   ]
  },
  {
   "cell_type": "code",
   "execution_count": 16,
   "metadata": {},
   "outputs": [],
   "source": [
    "model_json = model.to_json()\n",
    "with open('trained_model/model.json', \"w\") as json_file:\n",
    "    json_file.write(model_json)\n",
    "\n",
    "model.save_weights('trained_model/weights.h5', overwrite=True)"
   ]
  },
  {
   "cell_type": "code",
   "execution_count": null,
   "metadata": {},
   "outputs": [],
   "source": []
  },
  {
   "cell_type": "code",
   "execution_count": null,
   "metadata": {},
   "outputs": [],
   "source": []
  },
  {
   "cell_type": "code",
   "execution_count": null,
   "metadata": {},
   "outputs": [],
   "source": []
  },
  {
   "cell_type": "code",
   "execution_count": null,
   "metadata": {},
   "outputs": [],
   "source": []
  }
 ],
 "metadata": {
  "kernelspec": {
   "display_name": "Python 3",
   "language": "python",
   "name": "python3"
  },
  "language_info": {
   "codemirror_mode": {
    "name": "ipython",
    "version": 3
   },
   "file_extension": ".py",
   "mimetype": "text/x-python",
   "name": "python",
   "nbconvert_exporter": "python",
   "pygments_lexer": "ipython3",
   "version": "3.6.6"
  }
 },
 "nbformat": 4,
 "nbformat_minor": 2
}
